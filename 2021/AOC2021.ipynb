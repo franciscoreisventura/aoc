{
  "nbformat": 4,
  "nbformat_minor": 0,
  "metadata": {
    "colab": {
      "name": "AOC2021.ipynb",
      "provenance": [],
      "collapsed_sections": [
        "L74HjLzruewS",
        "4eSspjKtumd_",
        "94ZoWfpPeZVA",
        "hu7ov0wNAmkO",
        "26Ok8BSgtsGH",
        "l2e76Fc2EWCe",
        "IJcDgfZ0OB6s",
        "62jzk3fzbtTL"
      ],
      "toc_visible": true
    },
    "kernelspec": {
      "name": "python3",
      "display_name": "Python 3"
    },
    "language_info": {
      "name": "python"
    }
  },
  "cells": [
    {
      "cell_type": "markdown",
      "metadata": {
        "id": "L74HjLzruewS"
      },
      "source": [
        "## Day 1"
      ]
    },
    {
      "cell_type": "code",
      "metadata": {
        "colab": {
          "base_uri": "https://localhost:8080/"
        },
        "id": "KF_JtKBPYwFp",
        "outputId": "8500b8d5-b28d-4338-87af-81540f2a9b2d"
      },
      "source": [
        "with open('/content/drive/MyDrive/Colab Notebooks/AOC2021/day1.txt') as f:\n",
        "  input = [int(i) for i in f]\n",
        "  \n",
        "  #FIRST\n",
        "  previous = input[0]\n",
        "  sumValue = 0\n",
        "  for current in input:\n",
        "    if current > previous:\n",
        "      sumValue = sumValue + 1\n",
        "    previous = current\n",
        "  print(sumValue)\n",
        "\n",
        "  #SECOND\n",
        "  sumValue = 0\n",
        "  previous = input[0] + input[1] + input[2]\n",
        "  for i in range (0, len(input) - 3):\n",
        "    if input[i] < input[i+3]:\n",
        "      sumValue = sumValue + 1\n",
        "    current = input[i]\n",
        "  print(sumValue)\n",
        "  f.close()\n"
      ],
      "execution_count": null,
      "outputs": [
        {
          "output_type": "stream",
          "name": "stdout",
          "text": [
            "1316\n",
            "1344\n"
          ]
        }
      ]
    },
    {
      "cell_type": "markdown",
      "metadata": {
        "id": "4eSspjKtumd_"
      },
      "source": [
        "## Day 2"
      ]
    },
    {
      "cell_type": "code",
      "metadata": {
        "colab": {
          "base_uri": "https://localhost:8080/"
        },
        "id": "9Yu4qY7mf4Vv",
        "outputId": "ba413325-3ca6-4291-d5a4-81434bc47a95"
      },
      "source": [
        "with open('/content/drive/MyDrive/Colab Notebooks/AOC2021/day2.txt') as f:\n",
        "  input = [str(i) for i in f]\n",
        "  \n",
        "  #FIRST\n",
        "  depth = 0\n",
        "  horizontal = 0\n",
        "  for current in input:\n",
        "    movement = current.split()\n",
        "    if (movement[0] == \"forward\"):\n",
        "      horizontal = horizontal + int(movement[1])\n",
        "      continue\n",
        "    if(movement[0] == \"down\"):\n",
        "      depth = depth + int(movement[1])\n",
        "      continue\n",
        "    else: depth = depth - int(movement[1])\n",
        "  print(horizontal * depth);\n",
        "  \n",
        "  #SECOND\n",
        "  depth = 0\n",
        "  horizontal = 0\n",
        "  aim = 0\n",
        "  for current in input:\n",
        "    movement = current.split()\n",
        "    if (movement[0] == \"forward\"):\n",
        "      horizontal = horizontal + int(movement[1])\n",
        "      depth = depth +  aim * int(movement[1])\n",
        "      continue\n",
        "    if(movement[0] == \"down\"):\n",
        "      aim = aim + int(movement[1])\n",
        "      continue\n",
        "    else: aim = aim - int(movement[1])\n",
        "  print(horizontal * depth);\n",
        "  f.close()\n"
      ],
      "execution_count": null,
      "outputs": [
        {
          "output_type": "stream",
          "name": "stdout",
          "text": [
            "2150351\n",
            "1842742223\n"
          ]
        }
      ]
    },
    {
      "cell_type": "markdown",
      "metadata": {
        "id": "94ZoWfpPeZVA"
      },
      "source": [
        "## Day 3"
      ]
    },
    {
      "cell_type": "code",
      "metadata": {
        "colab": {
          "base_uri": "https://localhost:8080/"
        },
        "id": "dHmJ8rNkiNEc",
        "outputId": "2ba2fc42-105a-477f-8ff5-12bb2d6cde41"
      },
      "source": [
        "with open('/content/drive/MyDrive/Colab Notebooks/AOC2021/day3.txt') as f:\n",
        "  input = [str(i) for i in f]\n",
        "\n",
        "  #FIRST\n",
        "  gamma = \"\"\n",
        "  epsilon = \"\"\n",
        "  for i in range(0, len(input[0]) - 1):\n",
        "    sumRow = sum(int(row[i]) for row in input)\n",
        "    gamma = gamma + (\"1\" if sumRow > len(input)/2 else \"0\")\n",
        "    epsilon = epsilon + str(1 - int(gamma[i]))\n",
        "  print(int(gamma,2) * int(epsilon, 2))\n",
        "  \n",
        "  #SECOND\n",
        "  o2RatingList = input[:]\n",
        "  co2RatingList = input[:]\n",
        "  for i in range(0, len(input[0]) - 1):\n",
        "    if len(o2RatingList) == 1:\n",
        "      break\n",
        "    sumRow = sum(int(row[i]) for row in o2RatingList)\n",
        "    filterValueO2 = (\"1\" if sumRow >= len(o2RatingList)/2 else \"0\")\n",
        "    o2RatingList = list(filter(lambda row: row[i] == filterValueO2, o2RatingList))\n",
        "  for i in range(0, len(input[0]) - 1):\n",
        "    if len(co2RatingList) == 1:\n",
        "      break\n",
        "    sumRow = sum(int(row[i]) for row in co2RatingList)\n",
        "    filterValueCO2 = (\"0\" if sumRow >= len(co2RatingList)/2 else \"1\")\n",
        "    co2RatingList = list(filter(lambda row: row[i] == filterValueCO2, co2RatingList))\n",
        "  print(int(o2RatingList[0], 2) * int(co2RatingList[0], 2))\n",
        "  f.close()\n"
      ],
      "execution_count": null,
      "outputs": [
        {
          "output_type": "stream",
          "name": "stdout",
          "text": [
            "3912944\n",
            "4996233\n"
          ]
        }
      ]
    },
    {
      "cell_type": "markdown",
      "metadata": {
        "id": "hu7ov0wNAmkO"
      },
      "source": [
        "## Day 4"
      ]
    },
    {
      "cell_type": "code",
      "metadata": {
        "colab": {
          "base_uri": "https://localhost:8080/"
        },
        "id": "0UWRPMStBGgO",
        "outputId": "d0d9a302-90df-4125-d865-da3b293b1b5a"
      },
      "source": [
        "import copy\n",
        "\n",
        "with open('/content/drive/MyDrive/Colab Notebooks/AOC2021/day4.txt') as f:\n",
        "  input = [str(i) for i in f]\n",
        "  numbers = [int(value) for value in input[0].split(\",\")]\n",
        "  boards = [[int(value) for value in line.split()] for line in list(filter(lambda row: len(row) > 1, input[2:]))]\n",
        "\n",
        "  #FIRST\n",
        "  markedBoards = copy.deepcopy(boards)\n",
        "  sumBoards = copy.deepcopy(boards)\n",
        "  winner = False\n",
        "  for current in numbers:\n",
        "    for j in range(0, len(boards)):\n",
        "      for k in range(0,5):\n",
        "        if(boards[j][k] == current):\n",
        "          markedBoards[j][k] = -1\n",
        "          sumBoards[j][k] = 0\n",
        "    for boardRow in range(0, int(len(markedBoards) / 5)):\n",
        "      board = markedBoards[boardRow*5: boardRow*5+5][:]\n",
        "      transposed = list(zip(*board))\n",
        "      for row in range(0, 5):\n",
        "        if sum(board[row]) == -5 or sum(transposed[row]) == -5:\n",
        "          winner = True\n",
        "          winnerBoard = sumBoards[boardRow*5: boardRow*5+5][:]\n",
        "          break\n",
        "    if winner:\n",
        "      break\n",
        "  sumValue = sum(sumCol for sumCol in [sum(row) for row in winnerBoard])\n",
        "  print(sumValue * current)\n",
        "\n",
        "  #SECOND\n",
        "  markedBoards = copy.deepcopy(boards)\n",
        "  sumBoards = copy.deepcopy(boards)\n",
        "  winners = dict()\n",
        "  for current in numbers:\n",
        "    for j in range(0, len(boards)):\n",
        "      for k in range(0,5):\n",
        "        if(boards[j][k] == current):\n",
        "          markedBoards[j][k] = -1\n",
        "          sumBoards[j][k] = 0\n",
        "    for boardRow in range(0, int(len(markedBoards) / 5)):\n",
        "      if boardRow in winners:\n",
        "        continue\n",
        "      board = markedBoards[boardRow*5: boardRow*5+5][:]\n",
        "      transposed = list(zip(*board))\n",
        "      for row in range(0, 5):\n",
        "        if sum(board[row]) == -5 or sum(transposed[row]) == -5:\n",
        "          winners[boardRow] = True\n",
        "          lastWinner = sumBoards[boardRow*5:boardRow*5+5][:]\n",
        "          break;\n",
        "    if len(winners) == int(len(markedBoards) / 5):\n",
        "      break\n",
        "  sumValue = sum(sumCol for sumCol in [sum(row) for row in lastWinner])\n",
        "  print(sumValue * current)\n",
        "  f.close()\n",
        "\n"
      ],
      "execution_count": null,
      "outputs": [
        {
          "output_type": "stream",
          "name": "stdout",
          "text": [
            "82440\n",
            "20774\n"
          ]
        }
      ]
    },
    {
      "cell_type": "markdown",
      "metadata": {
        "id": "26Ok8BSgtsGH"
      },
      "source": [
        "## Day 5"
      ]
    },
    {
      "cell_type": "code",
      "metadata": {
        "id": "wfry4GPr3_QY",
        "colab": {
          "base_uri": "https://localhost:8080/"
        },
        "outputId": "b97d8a35-e618-4263-c7d8-d247851ec7b1"
      },
      "source": [
        "with open('/content/drive/MyDrive/Colab Notebooks/AOC2021/day5.txt') as f:\n",
        "  input = [str(i) for i in f]\n",
        "  vents = [[int(value) for value in line.replace(\"->\", \",\").split(\",\")] for line in input]\n",
        "  maxX = max([value for value in [row[0] for row in vents] + [value for value in [row[2] for row in vents]]])\n",
        "  maxY = max([value for value in [row[1] for row in vents] + [value for value in [row[3] for row in vents]]])\n",
        "\n",
        "  #FIRST\n",
        "  grid = [[0 for x in range(maxX+1)] for y in range(maxY+1)]\n",
        "  for row in vents:\n",
        "    if row[0] != row[2] and row[1] != row[3]:\n",
        "      continue\n",
        "    rangeValueX = 1 if row[0] <= row[2] else -1\n",
        "    rangeValueY = 1 if row[1] <= row[3] else -1\n",
        "    for i in range(row[0], row[2] + rangeValueX, rangeValueX):\n",
        "      for j in range(row[1], row[3] + rangeValueY, rangeValueY):\n",
        "        grid[j][i] += 1\n",
        "  dangerous = 0\n",
        "  for line in grid:\n",
        "    for value in line:\n",
        "      if value >= 2:\n",
        "        dangerous +=1\n",
        "  print(dangerous)\n",
        "\n",
        "  #SECOND\n",
        "  for row in vents:\n",
        "    if row[0] != row[2] and row[1] != row[3]:\n",
        "      rangeValueX = 1 if row[0] <= row[2] else -1\n",
        "      rangeValueY = 1 if row[1] <= row[3] else -1\n",
        "      j = row[1]\n",
        "      for i in range(row[0], row[2] + rangeValueX, rangeValueX):\n",
        "          grid[j][i] += 1\n",
        "          j += rangeValueY\n",
        "          #print(j,i)\n",
        "  dangerous = 0\n",
        "  for line in grid:\n",
        "    for value in line:\n",
        "      if value >= 2:\n",
        "        dangerous +=1\n",
        "  print(dangerous)\n",
        "  #print('\\n'.join([''.join(['{:4}'.format(item) for item in row]) for row in grid]))\n",
        "  f.close()\n"
      ],
      "execution_count": null,
      "outputs": [
        {
          "output_type": "stream",
          "name": "stdout",
          "text": [
            "4728\n",
            "17717\n"
          ]
        }
      ]
    },
    {
      "cell_type": "markdown",
      "metadata": {
        "id": "l2e76Fc2EWCe"
      },
      "source": [
        "## Day 6"
      ]
    },
    {
      "cell_type": "code",
      "metadata": {
        "id": "_knUEbyOdLSY",
        "colab": {
          "base_uri": "https://localhost:8080/"
        },
        "outputId": "71404db8-4f9d-45c5-cb0b-48d2db0ca868"
      },
      "source": [
        "with open('/content/drive/MyDrive/Colab Notebooks/AOC2021/day6.txt') as f:\n",
        "  input = [str(i) for i in f]\n",
        "  values = list(int(value) for value in input[0].split(\",\"))\n",
        "    \n",
        "  def calculate(iterations):\n",
        "    fishes = [0, 0, 0, 0, 0, 0, 0, 0, 0]\n",
        "    for fish in values:\n",
        "      fishes[fish] += 1\n",
        "    for i in range (iterations):\n",
        "      oldFishes0 = fishes[0]\n",
        "      for index in range(8):\n",
        "        fishes[index] = fishes[index+1]\n",
        "      fishes[6] += oldFishes0\n",
        "      fishes[8] = oldFishes0\n",
        "    print(sum(fishes))\n",
        "\n",
        "  #FIRST\n",
        "  calculate(80)\n",
        "  \n",
        "  #SECOND\n",
        "  calculate(256)\n",
        "  f.close()\n",
        "  "
      ],
      "execution_count": null,
      "outputs": [
        {
          "output_type": "stream",
          "name": "stdout",
          "text": [
            "355386\n",
            "1613415325809\n"
          ]
        }
      ]
    },
    {
      "cell_type": "markdown",
      "metadata": {
        "id": "IJcDgfZ0OB6s"
      },
      "source": [
        "## Day 7"
      ]
    },
    {
      "cell_type": "code",
      "metadata": {
        "colab": {
          "base_uri": "https://localhost:8080/"
        },
        "id": "v2_TLdmWODly",
        "outputId": "5da70205-69c7-46eb-cb7f-59d2b1ba2713"
      },
      "source": [
        "with open('/content/drive/MyDrive/Colab Notebooks/AOC2021/day7.txt') as f:\n",
        "  input = [str(i) for i in f]\n",
        "  crabs = list(int(crab) for crab in input[0].split(\",\"))\n",
        "\n",
        "  #FIRST\n",
        "  minDistance = sum(abs(crabs[0] - crab) for crab in crabs)\n",
        "  for pos in range(0, max(crabs)):\n",
        "    currentMin = 0\n",
        "    for crab2 in crabs:\n",
        "      if(pos == crab2):\n",
        "        continue\n",
        "      currentMin += abs(pos - crab2)\n",
        "      if currentMin >= minDistance:\n",
        "        break\n",
        "    if minDistance > currentMin:\n",
        "      minDistance = currentMin\n",
        "  print(minDistance)\n",
        "\n",
        "  #SECOND\n",
        "  def calcFuel(a, b):\n",
        "    fuel = 0\n",
        "    iter = 1 if a < b else -1\n",
        "    step = 1\n",
        "    for i in range(a, b, iter):\n",
        "      fuel += step\n",
        "      step += 1\n",
        "    return fuel\n",
        "\n",
        "  minFuel = sum(calcFuel(crabs[0], crab) for crab in crabs)\n",
        "  for pos in range(0, max(crabs)):\n",
        "    currentMin = 0\n",
        "    for crab2 in crabs:\n",
        "      if(crab2 == pos):\n",
        "        continue\n",
        "      currentMin += calcFuel(pos, crab2)\n",
        "      if currentMin >= minFuel:\n",
        "        break\n",
        "    if minFuel > currentMin:\n",
        "      minFuel = currentMin\n",
        "  print(minFuel)\n",
        "  f.close()\n",
        "\n",
        "\n",
        "\n",
        "\n",
        "\n",
        "\n"
      ],
      "execution_count": null,
      "outputs": [
        {
          "output_type": "stream",
          "name": "stdout",
          "text": [
            "343605\n",
            "96744904\n"
          ]
        }
      ]
    },
    {
      "cell_type": "code",
      "metadata": {
        "id": "mp5KPCaaOH03"
      },
      "source": [
        ""
      ],
      "execution_count": null,
      "outputs": []
    },
    {
      "cell_type": "markdown",
      "source": [
        "## Day 8"
      ],
      "metadata": {
        "id": "62jzk3fzbtTL"
      }
    },
    {
      "cell_type": "code",
      "source": [
        "with open('/content/drive/MyDrive/Colab Notebooks/AOC2021/day8.txt') as f:\n",
        "  input = [str(i) for i in f]\n",
        "  patterns = [[str(pattern) for pattern in line.split()] for line in [str(i).split(\"|\")[0] for i in input]]\n",
        "  outputs = [[str(output) for output in line.split()] for line in [str(i).split(\"|\")[1] for i in input]]\n",
        "  numbers = [0, 0, 0, 0, 0, 0, 0, 0, 0, 0, 0]\n",
        "\n",
        "  #FIRST\n",
        "  for output in outputs:\n",
        "    for value in output:\n",
        "      length = len(value)\n",
        "      if length == 2:\n",
        "        numbers[1] += 1\n",
        "        continue\n",
        "      if length == 3: \n",
        "        numbers[7] += 1\n",
        "        continue\n",
        "      if length == 4: \n",
        "        numbers[4] += 1\n",
        "        continue\n",
        "      if length == 7: \n",
        "        numbers[8] += 1\n",
        "        continue\n",
        "  print(sum(numbers))\n",
        "\n",
        "  #SECOND\n",
        "  def figurePatterns(patternList):\n",
        "    patternSet = set(patternList)\n",
        "    patterns = [\"\", \"\", \"\", \"\", \"\", \"\", \"\", \"\", \"\", \"\"]\n",
        "    #FIND 1, 4, 7 and 8\n",
        "    for pattern in patternList:\n",
        "      length = len(pattern)\n",
        "      if length == 2:\n",
        "        patterns[1] = \"\".join(sorted(pattern))\n",
        "        patternSet.remove(pattern)\n",
        "        continue\n",
        "      if length == 3: \n",
        "        patterns[7] = \"\".join(sorted(pattern))\n",
        "        patternSet.remove(pattern)\n",
        "        continue\n",
        "      if length == 4: \n",
        "        patterns[4] = \"\".join(sorted(pattern))\n",
        "        patternSet.remove(pattern)\n",
        "        continue\n",
        "      if length == 7: \n",
        "        patterns[8] = \"\".join(sorted(pattern))\n",
        "        patternSet.remove(pattern)\n",
        "        continue\n",
        "    patternList = list(patternSet)\n",
        "    #FIND 9 that contains 4 \n",
        "    for pattern in patternList:\n",
        "      if len(pattern) == 6:\n",
        "        contains = 0\n",
        "        for c in patterns[4]:\n",
        "          if c in pattern:\n",
        "            contains += 1\n",
        "          else: \n",
        "            break\n",
        "        if contains == 4:\n",
        "          patterns[9] = \"\".join(sorted(pattern))\n",
        "          patternSet.remove(pattern)\n",
        "          break\n",
        "    patternList = list(patternSet)\n",
        "    #FIND 0 that contains 1\n",
        "    for pattern in patternList:\n",
        "      if len(pattern) == 6:\n",
        "        contains = 0\n",
        "        for c in patterns[1]:\n",
        "          if c in pattern:\n",
        "            contains += 1\n",
        "          else: \n",
        "            break\n",
        "        if contains == 2:\n",
        "          patterns[0] = \"\".join(sorted(pattern))\n",
        "          patternSet.remove(pattern)\n",
        "          break\n",
        "    patternList = list(patternSet)\n",
        "    #FIND 6\n",
        "    for pattern in patternList:\n",
        "      if len(pattern) == 6:\n",
        "        patterns[6] = \"\".join(sorted(pattern))\n",
        "        patternSet.remove(pattern)\n",
        "        break\n",
        "    patternList = list(patternSet)\n",
        "    #FIND 3 that contains 7\n",
        "    for pattern in patternList:\n",
        "      contains = 0\n",
        "      for c in patterns[7]:\n",
        "        if c in pattern:\n",
        "          contains += 1\n",
        "        else: \n",
        "          break\n",
        "      if contains == 3:\n",
        "        patterns[3] = \"\".join(sorted(pattern))\n",
        "        patternSet.remove(pattern)\n",
        "        break\n",
        "    patternList = list(patternSet)\n",
        "    #FIND 5\n",
        "    for pattern in patternList:\n",
        "      contains = 0\n",
        "      for c in patterns[4]:\n",
        "        if c in pattern:\n",
        "          contains += 1\n",
        "      if contains == 3:\n",
        "        patterns[5] = \"\".join(sorted(pattern))\n",
        "        patternSet.remove(pattern)\n",
        "        break\n",
        "    #FIND 2\n",
        "    patterns[2] = \"\".join(sorted(list(patternSet)[0]))\n",
        "    return patterns\n",
        "    \n",
        "  sumValues = 0\n",
        "  for i in range(len(outputs)):\n",
        "    currentPattern = figurePatterns(patterns[i])\n",
        "    value = str()\n",
        "    for output in outputs[i]:\n",
        "      sortedOutput = \"\".join(sorted(output))\n",
        "      for j in range(10):\n",
        "        if currentPattern[j] == sortedOutput:\n",
        "          value += str(j)\n",
        "          break\n",
        "    sumValues += int(value)\n",
        "  print(sumValues)\n",
        "  f.close()\n",
        "\n",
        "\n"
      ],
      "metadata": {
        "colab": {
          "base_uri": "https://localhost:8080/"
        },
        "id": "VszPVDHYbvCy",
        "outputId": "a13f862a-b6e5-4241-add2-651b1d51929d"
      },
      "execution_count": null,
      "outputs": [
        {
          "output_type": "stream",
          "name": "stdout",
          "text": [
            "247\n",
            "933305\n"
          ]
        }
      ]
    },
    {
      "cell_type": "markdown",
      "source": [
        "## Day 9"
      ],
      "metadata": {
        "id": "OUM1xF1Fh3VT"
      }
    },
    {
      "cell_type": "code",
      "source": [
        "with open('/content/drive/MyDrive/Colab Notebooks/AOC2021/day9.txt') as f:\n",
        "  caves = [[int(value) for value in line.replace(\"\\n\", \"\")] for line in f]\n",
        "\n",
        "  #FIRST\n",
        "  lowP = 0\n",
        "  for i in range(len(caves)):\n",
        "    for j in range(len(caves[0])):\n",
        "      depth = caves[i][j]\n",
        "      if i > 0:\n",
        "        if depth >= caves[i - 1][j]:\n",
        "          continue\n",
        "      if i < len(caves) - 1:\n",
        "        if depth >= caves[i + 1][j]:\n",
        "          continue\n",
        "      if j > 0:\n",
        "        if depth >= caves[i][j - 1]:\n",
        "          continue\n",
        "      if j < len(caves[0]) - 1:\n",
        "        if depth >= caves[i][j + 1]:\n",
        "          continue\n",
        "      lowP += 1 + depth\n",
        "  print(lowP)\n",
        "\n",
        "  def findBasin(x, y, depth):\n",
        "    if caves[x][y] < depth or caves[x][y] > 8:\n",
        "      return 0\n",
        "    basin = 1\n",
        "    if x > 0:\n",
        "      basin += findBasin(x - 1, y, caves[x][y] + 1)\n",
        "    if x < len(caves) - 1:\n",
        "      basin += findBasin(x + 1, y, caves[x][y] + 1)\n",
        "    if y > 0:\n",
        "      basin += findBasin(x, y - 1, caves[x][y] + 1)\n",
        "    if y < len(caves[0]) - 1:\n",
        "      basin += findBasin(x, y + 1, caves[x][y] + 1)\n",
        "    caves[x][y] = 9\n",
        "    return basin\n",
        "\n",
        "  #SECOND\n",
        "  basinResult = []\n",
        "  for i in range(len(caves)):\n",
        "    for j in range(len(caves[0])):\n",
        "      depth = caves[i][j]\n",
        "      basin = 0\n",
        "      if i > 0:\n",
        "        if depth >= caves[i - 1][j]:\n",
        "          continue\n",
        "      if i < len(caves) - 1:\n",
        "        if depth >= caves[i + 1][j]:\n",
        "          continue\n",
        "      if j > 0:\n",
        "        if depth >= caves[i][j - 1]:\n",
        "          continue\n",
        "      if j < len(caves[0]) - 1:\n",
        "        if depth >= caves[i][j + 1]:\n",
        "          continue\n",
        "      basin = findBasin(i, j, depth)\n",
        "      basinResult = basinResult + [basin]\n",
        "\n",
        "  basinResult = sorted(basinResult)\n",
        "  print(basinResult[-1] * basinResult[-2] * basinResult[-3])\n",
        "  f.close()\n",
        "  #print('\\n'.join([''.join(['{:4}'.format(item) for item in row]) for row in caves]))\n"
      ],
      "metadata": {
        "colab": {
          "base_uri": "https://localhost:8080/"
        },
        "id": "5AzOsefAh6R5",
        "outputId": "efe7f1a4-4c51-4cf9-daaa-deec63aa25dd"
      },
      "execution_count": null,
      "outputs": [
        {
          "output_type": "stream",
          "name": "stdout",
          "text": [
            "575\n",
            "1019700\n"
          ]
        }
      ]
    },
    {
      "cell_type": "markdown",
      "source": [
        "## Day 10"
      ],
      "metadata": {
        "id": "UTXqXYkggUCJ"
      }
    },
    {
      "cell_type": "code",
      "source": [
        "import math\n",
        "\n",
        "with open('/content/drive/MyDrive/Colab Notebooks/AOC2021/day10.txt') as f:\n",
        "  navigations = [str(value.replace(\"\\n\",\"\")) for value in f]\n",
        "\n",
        "  opposites = {'(': ')', '[': ']', '<': '>', '{': '}'}\n",
        "  errorValue = {')': 3, ']': 57, '}': 1197, '>': 25137}\n",
        "  incompleteNavigations = []\n",
        "\n",
        "  #FIRST\n",
        "  def validateSingleNavigation(navigation):\n",
        "    stack = list()\n",
        "    errors = 0\n",
        "    for char in navigation:\n",
        "      if char == '(' or char == '[' or char == '<' or char == '{':\n",
        "        stack.append(char)\n",
        "      else: \n",
        "        if opposites.get(stack[-1]) == char:\n",
        "          stack.pop()\n",
        "        else:\n",
        "          return errorValue.get(char)\n",
        "    return errors\n",
        "\n",
        "  def sumErrorsInNavigation(navigations):\n",
        "    sumErrors = 0\n",
        "    for navigation in navigations:\n",
        "      errorValue = validateSingleNavigation(navigation)\n",
        "      sumErrors += errorValue\n",
        "    return sumErrors\n",
        "\n",
        "  print(sumErrorsInNavigation(navigations))\n",
        "\n",
        "  #SECOND\n",
        "  def getIncompleteNavigation(navigation):\n",
        "    stack = list()\n",
        "    errors = 0\n",
        "    for char in navigation:\n",
        "      if char == '(' or char == '[' or char == '<' or char == '{':\n",
        "        stack.append(char)\n",
        "      else: \n",
        "        if opposites.get(stack[-1]) == char:\n",
        "          stack.pop()\n",
        "        else:\n",
        "          return []\n",
        "    return stack\n",
        "\n",
        "  def getIncompleteNavigations(navigations):\n",
        "    incompleteNavigations = []\n",
        "    for navigation in navigations:\n",
        "      incompleteNavigation = getIncompleteNavigation(navigation)\n",
        "      if len(incompleteNavigation) > 0:\n",
        "        incompleteNavigations.append(incompleteNavigation)\n",
        "    return incompleteNavigations\n",
        "  \n",
        "  completionValue = {'(': 1, '[': 2, '{': 3, '<': 4}\n",
        "  incompleteNavigations = getIncompleteNavigations(navigations)\n",
        "\n",
        "  totalScores = []\n",
        "  for navigation in incompleteNavigations:\n",
        "      totalScore = 0\n",
        "      for index in range(len(navigation) - 1, -1, -1):\n",
        "        totalScore = totalScore * 5 + completionValue.get(navigation[index])\n",
        "      totalScores = totalScores + [totalScore]\n",
        "  print(sorted(totalScores)[math.floor(len(totalScores) / 2)])\n",
        "  f.close()"
      ],
      "metadata": {
        "colab": {
          "base_uri": "https://localhost:8080/"
        },
        "id": "WpJyrl03gS5f",
        "outputId": "431de65a-76a4-45df-a898-48ea8b58cbca"
      },
      "execution_count": 72,
      "outputs": [
        {
          "output_type": "stream",
          "name": "stdout",
          "text": [
            "323691\n",
            "2858785164\n"
          ]
        }
      ]
    },
    {
      "cell_type": "code",
      "source": [
        ""
      ],
      "metadata": {
        "id": "NFN9aL5Kjuti"
      },
      "execution_count": 71,
      "outputs": []
    }
  ]
}