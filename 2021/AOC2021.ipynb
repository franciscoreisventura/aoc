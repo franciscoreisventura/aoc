{
  "nbformat": 4,
  "nbformat_minor": 0,
  "metadata": {
    "colab": {
      "name": "AOC2021.ipynb",
      "provenance": [],
      "collapsed_sections": []
    },
    "kernelspec": {
      "name": "python3",
      "display_name": "Python 3"
    },
    "language_info": {
      "name": "python"
    }
  },
  "cells": [
    {
      "cell_type": "markdown",
      "metadata": {
        "id": "L74HjLzruewS"
      },
      "source": [
        "## Day 1"
      ]
    },
    {
      "cell_type": "code",
      "metadata": {
        "colab": {
          "base_uri": "https://localhost:8080/"
        },
        "id": "KF_JtKBPYwFp",
        "outputId": "ee09876b-83af-4c16-a494-2fd94b8780fa"
      },
      "source": [
        "with open('/content/drive/MyDrive/Colab Notebooks/AOC2021/day1.txt') as f:\n",
        "  input = [int(i) for i in f]\n",
        "  \n",
        "  #FIRST\n",
        "  previous = input[0]\n",
        "  sum = 0\n",
        "  for current in input:\n",
        "    if current > previous:\n",
        "      sum = sum + 1\n",
        "    previous = current\n",
        "  print(sum)\n",
        "\n",
        "  #SECOND\n",
        "  sum = 0\n",
        "  previous = input[0] + input[1] + input[2]\n",
        "  for i in range (0, len(input) - 3):\n",
        "    if input[i] < input[i+3]:\n",
        "      sum = sum + 1\n",
        "    current = input[i]\n",
        "  print(sum)\n",
        "  f.close()\n"
      ],
      "execution_count": null,
      "outputs": [
        {
          "output_type": "stream",
          "name": "stdout",
          "text": [
            "1316\n",
            "1344\n"
          ]
        }
      ]
    },
    {
      "cell_type": "markdown",
      "metadata": {
        "id": "4eSspjKtumd_"
      },
      "source": [
        "## Day 2"
      ]
    },
    {
      "cell_type": "code",
      "metadata": {
        "colab": {
          "base_uri": "https://localhost:8080/"
        },
        "id": "9Yu4qY7mf4Vv",
        "outputId": "766a7fce-9077-45a7-ce4a-90d0342eadb8"
      },
      "source": [
        "with open('/content/drive/MyDrive/Colab Notebooks/AOC2021/day2.txt') as f:\n",
        "  input = [str(i) for i in f]\n",
        "  \n",
        "  #FIRST\n",
        "  depth = 0\n",
        "  horizontal = 0\n",
        "  for current in input:\n",
        "    movement = current.split()\n",
        "    if (movement[0] == \"forward\"):\n",
        "      horizontal = horizontal + int(movement[1])\n",
        "      continue\n",
        "    if(movement[0] == \"down\"):\n",
        "      depth = depth + int(movement[1])\n",
        "      continue\n",
        "    else: depth = depth - int(movement[1])\n",
        "  print(horizontal * depth);\n",
        "  \n",
        "  #SECOND\n",
        "  depth = 0\n",
        "  horizontal = 0\n",
        "  aim = 0\n",
        "  for current in input:\n",
        "    movement = current.split()\n",
        "    if (movement[0] == \"forward\"):\n",
        "      horizontal = horizontal + int(movement[1])\n",
        "      depth = depth +  aim * int(movement[1])\n",
        "      continue\n",
        "    if(movement[0] == \"down\"):\n",
        "      aim = aim + int(movement[1])\n",
        "      continue\n",
        "    else: aim = aim - int(movement[1])\n",
        "  print(horizontal * depth);\n",
        "  f.close()\n"
      ],
      "execution_count": null,
      "outputs": [
        {
          "output_type": "stream",
          "name": "stdout",
          "text": [
            "2150351\n",
            "1842742223\n"
          ]
        }
      ]
    },
    {
      "cell_type": "markdown",
      "metadata": {
        "id": "94ZoWfpPeZVA"
      },
      "source": [
        "## Day 3"
      ]
    },
    {
      "cell_type": "code",
      "metadata": {
        "colab": {
          "base_uri": "https://localhost:8080/"
        },
        "id": "dHmJ8rNkiNEc",
        "outputId": "2ba2fc42-105a-477f-8ff5-12bb2d6cde41"
      },
      "source": [
        "with open('/content/drive/MyDrive/Colab Notebooks/AOC2021/day3.txt') as f:\n",
        "  input = [str(i) for i in f]\n",
        "\n",
        "  #FIRST\n",
        "  gamma = \"\"\n",
        "  epsilon = \"\"\n",
        "  for i in range(0, len(input[0]) - 1):\n",
        "    sumRow = sum(int(row[i]) for row in input)\n",
        "    gamma = gamma + (\"1\" if sumRow > len(input)/2 else \"0\")\n",
        "    epsilon = epsilon + str(1 - int(gamma[i]))\n",
        "  print(int(gamma,2) * int(epsilon, 2))\n",
        "  \n",
        "  #SECOND\n",
        "  o2RatingList = input[:]\n",
        "  co2RatingList = input[:]\n",
        "  for i in range(0, len(input[0]) - 1):\n",
        "    if len(o2RatingList) == 1:\n",
        "      break\n",
        "    sumRow = sum(int(row[i]) for row in o2RatingList)\n",
        "    filterValueO2 = (\"1\" if sumRow >= len(o2RatingList)/2 else \"0\")\n",
        "    o2RatingList = list(filter(lambda row: row[i] == filterValueO2, o2RatingList))\n",
        "  for i in range(0, len(input[0]) - 1):\n",
        "    if len(co2RatingList) == 1:\n",
        "      break\n",
        "    sumRow = sum(int(row[i]) for row in co2RatingList)\n",
        "    filterValueCO2 = (\"0\" if sumRow >= len(co2RatingList)/2 else \"1\")\n",
        "    co2RatingList = list(filter(lambda row: row[i] == filterValueCO2, co2RatingList))\n",
        "\n",
        "  print(int(o2RatingList[0], 2) * int(co2RatingList[0], 2))\n",
        "  f.close()\n"
      ],
      "execution_count": 69,
      "outputs": [
        {
          "output_type": "stream",
          "name": "stdout",
          "text": [
            "3912944\n",
            "4996233\n"
          ]
        }
      ]
    },
    {
      "cell_type": "code",
      "metadata": {
        "id": "k63mhSUWc0JH"
      },
      "source": [
        ""
      ],
      "execution_count": 43,
      "outputs": []
    }
  ]
}