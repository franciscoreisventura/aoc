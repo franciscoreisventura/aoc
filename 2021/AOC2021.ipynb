{
  "nbformat": 4,
  "nbformat_minor": 0,
  "metadata": {
    "colab": {
      "name": "AOC2021.ipynb",
      "provenance": [],
      "collapsed_sections": []
    },
    "kernelspec": {
      "name": "python3",
      "display_name": "Python 3"
    },
    "language_info": {
      "name": "python"
    }
  },
  "cells": [
    {
      "cell_type": "markdown",
      "metadata": {
        "id": "L74HjLzruewS"
      },
      "source": [
        "## Day 1"
      ]
    },
    {
      "cell_type": "code",
      "metadata": {
        "colab": {
          "base_uri": "https://localhost:8080/"
        },
        "id": "KF_JtKBPYwFp",
        "outputId": "8500b8d5-b28d-4338-87af-81540f2a9b2d"
      },
      "source": [
        "with open('/content/drive/MyDrive/Colab Notebooks/AOC2021/day1.txt') as f:\n",
        "  input = [int(i) for i in f]\n",
        "  \n",
        "  #FIRST\n",
        "  previous = input[0]\n",
        "  sumValue = 0\n",
        "  for current in input:\n",
        "    if current > previous:\n",
        "      sumValue = sumValue + 1\n",
        "    previous = current\n",
        "  print(sumValue)\n",
        "\n",
        "  #SECOND\n",
        "  sumValue = 0\n",
        "  previous = input[0] + input[1] + input[2]\n",
        "  for i in range (0, len(input) - 3):\n",
        "    if input[i] < input[i+3]:\n",
        "      sumValue = sumValue + 1\n",
        "    current = input[i]\n",
        "  print(sumValue)\n",
        "  f.close()\n"
      ],
      "execution_count": null,
      "outputs": [
        {
          "output_type": "stream",
          "name": "stdout",
          "text": [
            "1316\n",
            "1344\n"
          ]
        }
      ]
    },
    {
      "cell_type": "markdown",
      "metadata": {
        "id": "4eSspjKtumd_"
      },
      "source": [
        "## Day 2"
      ]
    },
    {
      "cell_type": "code",
      "metadata": {
        "colab": {
          "base_uri": "https://localhost:8080/"
        },
        "id": "9Yu4qY7mf4Vv",
        "outputId": "766a7fce-9077-45a7-ce4a-90d0342eadb8"
      },
      "source": [
        "with open('/content/drive/MyDrive/Colab Notebooks/AOC2021/day2.txt') as f:\n",
        "  input = [str(i) for i in f]\n",
        "  \n",
        "  #FIRST\n",
        "  depth = 0\n",
        "  horizontal = 0\n",
        "  for current in input:\n",
        "    movement = current.split()\n",
        "    if (movement[0] == \"forward\"):\n",
        "      horizontal = horizontal + int(movement[1])\n",
        "      continue\n",
        "    if(movement[0] == \"down\"):\n",
        "      depth = depth + int(movement[1])\n",
        "      continue\n",
        "    else: depth = depth - int(movement[1])\n",
        "  print(horizontal * depth);\n",
        "  \n",
        "  #SECOND\n",
        "  depth = 0\n",
        "  horizontal = 0\n",
        "  aim = 0\n",
        "  for current in input:\n",
        "    movement = current.split()\n",
        "    if (movement[0] == \"forward\"):\n",
        "      horizontal = horizontal + int(movement[1])\n",
        "      depth = depth +  aim * int(movement[1])\n",
        "      continue\n",
        "    if(movement[0] == \"down\"):\n",
        "      aim = aim + int(movement[1])\n",
        "      continue\n",
        "    else: aim = aim - int(movement[1])\n",
        "  print(horizontal * depth);\n",
        "  f.close()\n"
      ],
      "execution_count": null,
      "outputs": [
        {
          "output_type": "stream",
          "name": "stdout",
          "text": [
            "2150351\n",
            "1842742223\n"
          ]
        }
      ]
    },
    {
      "cell_type": "markdown",
      "metadata": {
        "id": "94ZoWfpPeZVA"
      },
      "source": [
        "## Day 3"
      ]
    },
    {
      "cell_type": "code",
      "metadata": {
        "colab": {
          "base_uri": "https://localhost:8080/"
        },
        "id": "dHmJ8rNkiNEc",
        "outputId": "2ba2fc42-105a-477f-8ff5-12bb2d6cde41"
      },
      "source": [
        "with open('/content/drive/MyDrive/Colab Notebooks/AOC2021/day3.txt') as f:\n",
        "  input = [str(i) for i in f]\n",
        "\n",
        "  #FIRST\n",
        "  gamma = \"\"\n",
        "  epsilon = \"\"\n",
        "  for i in range(0, len(input[0]) - 1):\n",
        "    sumRow = sum(int(row[i]) for row in input)\n",
        "    gamma = gamma + (\"1\" if sumRow > len(input)/2 else \"0\")\n",
        "    epsilon = epsilon + str(1 - int(gamma[i]))\n",
        "  print(int(gamma,2) * int(epsilon, 2))\n",
        "  \n",
        "  #SECOND\n",
        "  o2RatingList = input[:]\n",
        "  co2RatingList = input[:]\n",
        "  for i in range(0, len(input[0]) - 1):\n",
        "    if len(o2RatingList) == 1:\n",
        "      break\n",
        "    sumRow = sum(int(row[i]) for row in o2RatingList)\n",
        "    filterValueO2 = (\"1\" if sumRow >= len(o2RatingList)/2 else \"0\")\n",
        "    o2RatingList = list(filter(lambda row: row[i] == filterValueO2, o2RatingList))\n",
        "  for i in range(0, len(input[0]) - 1):\n",
        "    if len(co2RatingList) == 1:\n",
        "      break\n",
        "    sumRow = sum(int(row[i]) for row in co2RatingList)\n",
        "    filterValueCO2 = (\"0\" if sumRow >= len(co2RatingList)/2 else \"1\")\n",
        "    co2RatingList = list(filter(lambda row: row[i] == filterValueCO2, co2RatingList))\n",
        "  print(int(o2RatingList[0], 2) * int(co2RatingList[0], 2))\n",
        "  f.close()\n"
      ],
      "execution_count": null,
      "outputs": [
        {
          "output_type": "stream",
          "name": "stdout",
          "text": [
            "3912944\n",
            "4996233\n"
          ]
        }
      ]
    },
    {
      "cell_type": "markdown",
      "metadata": {
        "id": "hu7ov0wNAmkO"
      },
      "source": [
        "## Day 4"
      ]
    },
    {
      "cell_type": "code",
      "metadata": {
        "colab": {
          "base_uri": "https://localhost:8080/"
        },
        "id": "0UWRPMStBGgO",
        "outputId": "d5e16a57-afa8-45e2-ed5e-25d4a9ebddf1"
      },
      "source": [
        "import copy\n",
        "\n",
        "with open('/content/drive/MyDrive/Colab Notebooks/AOC2021/day4.txt') as f:\n",
        "  input = [str(i) for i in f]\n",
        "  numbers = [int(value) for value in input[0].split(\",\")]\n",
        "  boards = [[int(value) for value in line.split()] for line in list(filter(lambda row: len(row) > 1, input[2:]))]\n",
        "\n",
        "  #FIRST\n",
        "  markedBoards = copy.deepcopy(boards)\n",
        "  sumBoards = copy.deepcopy(boards)\n",
        "  winner = False\n",
        "  for current in numbers:\n",
        "    for j in range(0, len(boards)):\n",
        "      for k in range(0,5):\n",
        "        if(boards[j][k] == current):\n",
        "          markedBoards[j][k] = -1\n",
        "          sumBoards[j][k] = 0\n",
        "    for boardRow in range(0, int(len(markedBoards) / 5)):\n",
        "      board = markedBoards[boardRow*5: boardRow*5+5][:]\n",
        "      transposed = list(zip(*board))\n",
        "      for row in range(0, 5):\n",
        "        if sum(board[row]) == -5 or sum(transposed[row]) == -5:\n",
        "          winner = True\n",
        "          winnerBoard = sumBoards[boardRow*5: boardRow*5+5][:]\n",
        "          break\n",
        "    if winner:\n",
        "      break\n",
        "  sumValue = sum(sumCol for sumCol in [sum(row) for row in winnerBoard])\n",
        "  print(sumValue * current)\n",
        "\n",
        "  #SECOND\n",
        "  markedBoards = copy.deepcopy(boards)\n",
        "  sumBoards = copy.deepcopy(boards)\n",
        "  winners = dict()\n",
        "  for current in numbers:\n",
        "    for j in range(0, len(boards)):\n",
        "      for k in range(0,5):\n",
        "        if(boards[j][k] == current):\n",
        "          markedBoards[j][k] = -1\n",
        "          sumBoards[j][k] = 0\n",
        "    for boardRow in range(0, int(len(markedBoards) / 5)):\n",
        "      if boardRow in winners:\n",
        "        continue\n",
        "      board = markedBoards[boardRow*5: boardRow*5+5][:]\n",
        "      transposed = list(zip(*board))\n",
        "      for row in range(0, 5):\n",
        "        if sum(board[row]) == -5 or sum(transposed[row]) == -5:\n",
        "          winners[boardRow] = True\n",
        "          lastWinner = sumBoards[boardRow*5:boardRow*5+5][:]\n",
        "          break;\n",
        "    if len(winners) == int(len(markedBoards) / 5):\n",
        "      break\n",
        "  sumValue = sum(sumCol for sumCol in [sum(row) for row in lastWinner])\n",
        "  print(sumValue * current)\n",
        "  f.close()\n",
        "\n"
      ],
      "execution_count": 78,
      "outputs": [
        {
          "output_type": "stream",
          "name": "stdout",
          "text": [
            "82440\n",
            "20774\n"
          ]
        }
      ]
    },
    {
      "cell_type": "markdown",
      "metadata": {
        "id": "26Ok8BSgtsGH"
      },
      "source": [
        "## Day 5"
      ]
    },
    {
      "cell_type": "code",
      "metadata": {
        "id": "wfry4GPr3_QY",
        "colab": {
          "base_uri": "https://localhost:8080/"
        },
        "outputId": "993a9e61-c578-43dc-b3e5-302a6c6b355a"
      },
      "source": [
        "with open('/content/drive/MyDrive/Colab Notebooks/AOC2021/day5.txt') as f:\n",
        "  input = [str(i) for i in f]\n",
        "  vents = [[int(value) for value in line.replace(\"->\", \",\").split(\",\")] for line in input]\n",
        "  maxX = max([value for value in [row[0] for row in vents] + [value for value in [row[2] for row in vents]]])\n",
        "  maxY = max([value for value in [row[1] for row in vents] + [value for value in [row[3] for row in vents]]])\n",
        "\n",
        "  #FIRST\n",
        "  grid = [[0 for x in range(maxX+1)] for y in range(maxY+1)]\n",
        "  for row in vents:\n",
        "    if row[0] != row[2] and row[1] != row[3]:\n",
        "      continue\n",
        "    rangeValueX = 1 if row[0] <= row[2] else -1\n",
        "    rangeValueY = 1 if row[1] <= row[3] else -1\n",
        "    for i in range(row[0], row[2] + rangeValueX, rangeValueX):\n",
        "      for j in range(row[1], row[3] + rangeValueY, rangeValueY):\n",
        "        grid[j][i] += 1\n",
        "  dangerous = 0\n",
        "  for line in grid:\n",
        "    for value in line:\n",
        "      if value >= 2:\n",
        "        dangerous +=1\n",
        "  print(dangerous)\n",
        "\n",
        "  #SECOND\n",
        "  for row in vents:\n",
        "    first = True\n",
        "    if row[0] != row[2] and row[1] != row[3]:\n",
        "      rangeValueX = 1 if row[0] <= row[2] else -1\n",
        "      rangeValueY = 1 if row[1] <= row[3] else -1\n",
        "      j = row[1]\n",
        "      for i in range(row[0], row[2] + rangeValueX, rangeValueX):\n",
        "          grid[j][i] += 1\n",
        "          j += rangeValueY\n",
        "          #print(j,i)\n",
        "  dangerous = 0\n",
        "  for line in grid:\n",
        "    for value in line:\n",
        "      if value >= 2:\n",
        "        dangerous +=1\n",
        "  print(dangerous)\n",
        "  #print('\\n'.join([''.join(['{:4}'.format(item) for item in row]) for row in grid]))\n",
        "  f.close()\n"
      ],
      "execution_count": 140,
      "outputs": [
        {
          "output_type": "stream",
          "name": "stdout",
          "text": [
            "4728\n",
            "17717\n"
          ]
        }
      ]
    },
    {
      "cell_type": "code",
      "metadata": {
        "id": "_knUEbyOdLSY"
      },
      "source": [
        ""
      ],
      "execution_count": null,
      "outputs": []
    },
    {
      "cell_type": "code",
      "metadata": {
        "id": "B_dcZMENy0AZ"
      },
      "source": [
        " "
      ],
      "execution_count": 116,
      "outputs": []
    }
  ]
}
