{
  "nbformat": 4,
  "nbformat_minor": 0,
  "metadata": {
    "colab": {
      "provenance": []
    },
    "kernelspec": {
      "name": "python3",
      "display_name": "Python 3"
    },
    "language_info": {
      "name": "python"
    }
  },
  "cells": [
    {
      "cell_type": "markdown",
      "source": [
        "## Day 1"
      ],
      "metadata": {
        "id": "8ZE28xXnzgww"
      }
    },
    {
      "cell_type": "code",
      "execution_count": null,
      "metadata": {
        "id": "ZmrcZKMmq0HL",
        "colab": {
          "base_uri": "https://localhost:8080/"
        },
        "outputId": "5b7375a9-3d89-4469-eb26-4e81bb86888d"
      },
      "outputs": [
        {
          "output_type": "stream",
          "name": "stdout",
          "text": [
            "67633\n",
            "199628\n"
          ]
        }
      ],
      "source": [
        "with open('/content/drive/MyDrive/Colab Notebooks/AOC2022/day1.txt') as f:\n",
        "  input = [str(i) for i in f] + [\"\\n\"]\n",
        "\n",
        "  #FIRST\n",
        "  maxValue = 0\n",
        "  currentMax = 0\n",
        "  for value in input:\n",
        "    if value.strip():\n",
        "      currentMax += int(value)\n",
        "      continue\n",
        "    if currentMax > maxValue:\n",
        "        maxValue = currentMax\n",
        "    currentMax = 0\n",
        "  print(maxValue)\n",
        "\n",
        "  #SECOND\n",
        "  maxValue1 = 0\n",
        "  maxValue2 = 0\n",
        "  maxValue3 = 0\n",
        "  currentMax = 0\n",
        "  for value in input:\n",
        "    if value.strip():\n",
        "      currentMax += int(value)\n",
        "      continue\n",
        "    if currentMax > maxValue1:\n",
        "      maxValue3 = maxValue2\n",
        "      maxValue2 = maxValue1\n",
        "      maxValue1 = currentMax\n",
        "    elif currentMax > maxValue2:\n",
        "      maxValue3 = maxValue2\n",
        "      maxValue2 = currentMax\n",
        "    elif currentMax > maxValue3:\n",
        "      maxValue3 = currentMax\n",
        "    currentMax = 0\n",
        "  print(maxValue1 + maxValue2 + maxValue3)\n"
      ]
    },
    {
      "cell_type": "markdown",
      "source": [
        "## Day 2"
      ],
      "metadata": {
        "id": "hYsPoUED-s_p"
      }
    },
    {
      "cell_type": "code",
      "source": [
        "with open('/content/drive/MyDrive/Colab Notebooks/AOC2022/day2.txt') as f:\n",
        "  input = [str(i) for i in f] \n",
        "  #AX rock 1\n",
        "  #BY paper 2\n",
        "  #CZ scissors 3\n",
        "\n",
        "  #FIRST\n",
        "  maxScore = 0\n",
        "  for line in input:\n",
        "    currentScore = 0\n",
        "    value = ord(line[2]) - ord(line[0])\n",
        "    if value == 23:\n",
        "      currentScore += 3\n",
        "    elif value == 24 or value == 21:\n",
        "      currentScore += 6\n",
        "    #22, 25 LOSS\n",
        "    currentScore += ord(line[2]) - 87\n",
        "    maxScore += currentScore\n",
        "  print(maxScore)\n",
        "\n",
        "  #SECOND\n",
        "  maxScore = 0\n",
        "  for line in input:\n",
        "    currentScore = 0\n",
        "    if line[2] == 'Y':\n",
        "      currentScore += 3\n",
        "      if line[0] == 'A':\n",
        "        currentScore += 1\n",
        "      elif line[0] == 'B':\n",
        "        currentScore += 2\n",
        "      else:\n",
        "        currentScore += 3\n",
        "    elif line[2] == 'Z':\n",
        "      currentScore += 6\n",
        "      if line[0] == 'A':\n",
        "        currentScore += 2\n",
        "      elif line[0] == 'B':\n",
        "        currentScore += 3\n",
        "      else:\n",
        "        currentScore += 1\n",
        "    else:\n",
        "      if line[0] == 'A':\n",
        "        currentScore += 3\n",
        "      elif line[0] == 'B':\n",
        "        currentScore += 1\n",
        "      else:\n",
        "        currentScore += 2\n",
        "    maxScore = maxScore + currentScore\n",
        "  print(maxScore)\n"
      ],
      "metadata": {
        "colab": {
          "base_uri": "https://localhost:8080/"
        },
        "id": "ieNtBbuV-sTE",
        "outputId": "ff9f0f1b-8bab-4e67-ae5b-7ca41686cd93"
      },
      "execution_count": null,
      "outputs": [
        {
          "output_type": "stream",
          "name": "stdout",
          "text": [
            "11603\n",
            "12725\n"
          ]
        }
      ]
    },
    {
      "cell_type": "markdown",
      "source": [
        "## Day 3"
      ],
      "metadata": {
        "id": "1k7V0Dv26h4n"
      }
    },
    {
      "cell_type": "code",
      "source": [
        "with open('/content/drive/MyDrive/Colab Notebooks/AOC2022/day3.txt') as f:\n",
        "  input = [str(i) for i in f] \n",
        "\n",
        "  #FIRST\n",
        "  sum = 0\n",
        "  for line in input:\n",
        "    pack1 = line[:int(len(line)/2)]\n",
        "    pack2 = line[int(len(line)/2):]\n",
        "    for char in pack1:\n",
        "      if char in pack2:\n",
        "        if char.islower():\n",
        "          priority = ord(char) - 96\n",
        "        else:\n",
        "          priority = ord(char) - 38\n",
        "        sum += priority\n",
        "        break\n",
        "  print(sum)\n",
        "\n",
        "  #SECOND\n",
        "  sum = 0\n",
        "  for i in range(0, len(input)-1, 3):\n",
        "    pack1 = input[i]\n",
        "    pack2 = input[i+1]\n",
        "    pack3 = input[i+2]\n",
        "    for char in pack1:\n",
        "      if char in pack2 and char in pack3:\n",
        "        if char.islower():\n",
        "          priority = ord(char) - 96\n",
        "        else:\n",
        "          priority = ord(char) - 38\n",
        "        sum += priority\n",
        "        break\n",
        "  print(sum)\n",
        "\n"
      ],
      "metadata": {
        "id": "c4wfezcTzY2i",
        "colab": {
          "base_uri": "https://localhost:8080/"
        },
        "outputId": "5ab1e165-7ffb-44ac-b4a7-787adf9e7218"
      },
      "execution_count": null,
      "outputs": [
        {
          "output_type": "stream",
          "name": "stdout",
          "text": [
            "7817\n",
            "2444\n"
          ]
        }
      ]
    },
    {
      "cell_type": "markdown",
      "source": [
        "##Day 4"
      ],
      "metadata": {
        "id": "A480xW5uEGjo"
      }
    },
    {
      "cell_type": "code",
      "source": [
        "with open('/content/drive/MyDrive/Colab Notebooks/AOC2022/day4.txt') as f:\n",
        "  input = [str(i) for i in f] \n",
        "\n",
        "  #FIRST\n",
        "  fullyContained = 0\n",
        "  for line in input:\n",
        "    elves = line.split(\",\")\n",
        "    rangesElf1 = elves[0].split(\"-\")\n",
        "    rangesElf2 =  elves[1].split(\"-\")\n",
        "    sections1 = [x for x in range(int(rangesElf1[0]), int(rangesElf1[1]) + 1)]\n",
        "    sections2 = [x for x in range(int(rangesElf2[0]), int(rangesElf2[1]) + 1)]\n",
        "    if all(item in sections1 for item in sections2) or all(item in sections2 for item in sections1):\n",
        "      fullyContained += 1\n",
        "  print(fullyContained)\n",
        "\n",
        "  #SECOND\n",
        "  overlaps = 0\n",
        "  for line in input:\n",
        "    elves = line.split(\",\")\n",
        "    rangesElf1 = elves[0].split(\"-\")\n",
        "    rangesElf2 =  elves[1].split(\"-\")\n",
        "    sections1 = [x for x in range(int(rangesElf1[0]), int(rangesElf1[1]) + 1)]\n",
        "    sections2 = [x for x in range(int(rangesElf2[0]), int(rangesElf2[1]) + 1)]\n",
        "    if any(item in sections1 for item in sections2):\n",
        "      overlaps += 1\n",
        "  print(overlaps)"
      ],
      "metadata": {
        "id": "rhCd9y4csbgx",
        "colab": {
          "base_uri": "https://localhost:8080/"
        },
        "outputId": "61c73fef-2565-4cfb-9c16-f8fa2741f080"
      },
      "execution_count": null,
      "outputs": [
        {
          "output_type": "stream",
          "name": "stdout",
          "text": [
            "528\n",
            "881\n"
          ]
        }
      ]
    },
    {
      "cell_type": "markdown",
      "source": [
        "##Day 5"
      ],
      "metadata": {
        "id": "iVnVr8cymcJX"
      }
    },
    {
      "cell_type": "code",
      "source": [
        "import copy\n",
        "\n",
        "with open('/content/drive/MyDrive/Colab Notebooks/AOC2022/day5.txt') as f:\n",
        "  input = [str(i) for i in f]\n",
        "  stacks = [line.replace(\"\\n\", \"\").replace(\"    \", \"[0]\").replace(\" \", \"\").replace(\"[\", \"\").replace(\"]\",\"\") for line in input if not \"move\" in line and line.strip()]\n",
        "  moves = [[int(value) for value in line.split() if value.isdigit()] for line in input if \"move\" in line]\n",
        "  orderedStacks = [\"\"] * len(stacks[0])\n",
        "  for i in range(len(stacks[0])):\n",
        "    for j in  reversed(range(len(stacks) - 1)):\n",
        "      if stacks[j][i] != '0':\n",
        "        orderedStacks[i] = orderedStacks[i] + stacks[j][i]  \n",
        "  orderedStacks2 = copy.deepcopy(orderedStacks)\n",
        "\n",
        "  #FIRST\n",
        "  for line in copy.deepcopy(moves):\n",
        "    line[1] -= 1\n",
        "    line[2] -= 1\n",
        "    for i in range(line[0]):\n",
        "      moved = orderedStacks[line[1]][-1]\n",
        "      orderedStacks[line[1]] = orderedStacks[line[1]][0 : -1]\n",
        "      orderedStacks[line[2]] = orderedStacks[line[2]] + moved\n",
        "\n",
        "  topCrates = \"\"\n",
        "  for stack in orderedStacks:\n",
        "    topCrates = topCrates + stack[-1]\n",
        "  \n",
        "  print(topCrates)\n",
        "  \n",
        "  #SECOND\n",
        "  for line in moves:\n",
        "    line[1] -= 1\n",
        "    line[2] -= 1\n",
        "    size = len(orderedStacks2[line[1]])\n",
        "    moved = orderedStacks2[line[1]][size - line[0] : size]\n",
        "    orderedStacks2[line[1]] = orderedStacks2[line[1]][0 : size - line[0]]\n",
        "    orderedStacks2[line[2]] = orderedStacks2[line[2]] + moved\n",
        "\n",
        "  topCrates = \"\"\n",
        "  for stack in orderedStacks2:\n",
        "    topCrates = topCrates + stack[-1]\n",
        "  \n",
        "  print(topCrates)\n"
      ],
      "metadata": {
        "id": "Iqw1y8c8memz",
        "colab": {
          "base_uri": "https://localhost:8080/"
        },
        "outputId": "76762cf1-72b0-4d7c-ad20-7e7f5dbeb7d6"
      },
      "execution_count": null,
      "outputs": [
        {
          "output_type": "stream",
          "name": "stdout",
          "text": [
            "TPGVQPFDH\n",
            "DMRDFRHHH\n"
          ]
        }
      ]
    },
    {
      "cell_type": "markdown",
      "source": [
        "##Day 6"
      ],
      "metadata": {
        "id": "o_tkZ-YjuGx7"
      }
    },
    {
      "cell_type": "code",
      "source": [
        "with open('/content/drive/MyDrive/Colab Notebooks/AOC2022/day6.txt') as f:\n",
        "  input = [str(i) for i in f]\n",
        "\n",
        "  #FIRST\n",
        "  buffer = 4\n",
        "  for line in input:\n",
        "\n",
        "    for i in range(buffer - 1, len(line)):\n",
        "      repeated = 0\n",
        "      for char in line[i-buffer : i]:       \n",
        "        repeated += int(line[i-buffer : i].count(char))\n",
        "      if repeated == buffer:\n",
        "        print(i)\n",
        "        break\n",
        "\n",
        "  #SECOND\n",
        "  buffer = 14\n",
        "  for line in input:\n",
        "    for i in range(buffer - 1, len(line)):\n",
        "      repeated = 0\n",
        "      for char in line[i-buffer : i]:       \n",
        "        repeated += int(line[i-buffer : i].count(char))\n",
        "      if repeated == buffer:\n",
        "        print(i)\n",
        "        break\n",
        "\n",
        "\n",
        "      "
      ],
      "metadata": {
        "id": "PtT5_1R_V7IO",
        "colab": {
          "base_uri": "https://localhost:8080/"
        },
        "outputId": "672bbb0b-538a-4508-b528-f358ccc0a12f"
      },
      "execution_count": null,
      "outputs": [
        {
          "output_type": "stream",
          "name": "stdout",
          "text": [
            "1702\n",
            "3559\n"
          ]
        }
      ]
    },
    {
      "cell_type": "markdown",
      "source": [
        "##Day 7"
      ],
      "metadata": {
        "id": "wgxxUEvg75T3"
      }
    },
    {
      "cell_type": "code",
      "source": [
        "with open('/content/drive/MyDrive/Colab Notebooks/AOC2022/day7.txt') as f:\n",
        "  input = [str(i) for i in f]\n",
        "\n",
        "  class Directory:\n",
        "    def __init__(self, parent):\n",
        "      self.parent = parent\n",
        "      self.directories = dict()\n",
        "      self.files = dict()\n",
        "    def __str__(self):\n",
        "     return self.directories.__str__() + self.files.__str__()\n",
        "    def size(self):\n",
        "      innerSum = 0\n",
        "      for k, v in self.directories.items():\n",
        "        innerSum += v.size()\n",
        "      return innerSum + sum(self.files.values())\n",
        "    def calcSizes(self, limit):\n",
        "      sum = 0\n",
        "      size = self.size()\n",
        "      if size <= limit:\n",
        "        sum += size\n",
        "      for k, v in self.directories.items():\n",
        "        sum += v.calcSizes(limit)\n",
        "      return sum\n",
        "    def folderSizes(self):\n",
        "      sizes = [self.size()]\n",
        "      for k, v in self.directories.items():\n",
        "        sizes += v.folderSizes()\n",
        "      return sizes\n",
        "\n",
        "  fileSystem = Directory(None)\n",
        "  currentFolder = fileSystem\n",
        "  for line in input:\n",
        "    parts = line.split()\n",
        "    if parts[0] == '$':\n",
        "      if parts[1] == 'cd':\n",
        "        if parts[2] == '..':\n",
        "          currentFolder = currentFolder.parent\n",
        "          continue\n",
        "        if parts[2] == '/':\n",
        "          continue\n",
        "        currentFolder = currentFolder.directories[parts[2]]\n",
        "    elif parts[0] == 'dir':\n",
        "      currentFolder.directories[parts[1]] = Directory(currentFolder)\n",
        "    else:\n",
        "      currentFolder.files[parts[1]] = int(parts[0])    \n",
        "\n",
        "  #FIRST\n",
        "  print(fileSystem.calcSizes(100000))\n",
        "\n",
        "  #SECOND\n",
        "  totalSize = fileSystem.size()\n",
        "  minSpace = abs(70000000 - totalSize - 30000000)\n",
        "  currentBestSize = 0;\n",
        "  bestSize = totalSize;\n",
        "\n",
        "  for size in fileSystem.folderSizes():\n",
        "    if size > minSpace:\n",
        "      currentBestSize = size\n",
        "    if currentBestSize < bestSize:\n",
        "      bestSize = currentBestSize\n",
        "\n",
        "  print(bestSize)\n",
        "\n"
      ],
      "metadata": {
        "id": "aFtvUJiZ76tm",
        "colab": {
          "base_uri": "https://localhost:8080/"
        },
        "outputId": "f74c232d-9906-4594-8cc1-ad0e3f4e702d"
      },
      "execution_count": null,
      "outputs": [
        {
          "output_type": "stream",
          "name": "stdout",
          "text": [
            "1667443\n",
            "8998590\n"
          ]
        }
      ]
    },
    {
      "cell_type": "markdown",
      "source": [
        "##Day 8"
      ],
      "metadata": {
        "id": "u6ypneGU-EPe"
      }
    },
    {
      "cell_type": "code",
      "source": [
        "with open('/content/drive/MyDrive/Colab Notebooks/AOC2022/day8.txt') as f:\n",
        "  input = [str(i) for i in f]\n",
        "  grid = [[int(tree) for tree in line if tree.isdigit()] for line in input]\n",
        "\n",
        "  #FIRST\n",
        "  def checkVisibility(grid, i, j):\n",
        "    visible = True\n",
        "    height = grid[i][j]\n",
        "    #left\n",
        "    for left in range(0, i):\n",
        "      if height <= grid[left][j]:\n",
        "        visible = False\n",
        "        break\n",
        "    if visible:\n",
        "      return True\n",
        "    visible = True\n",
        "    #right\n",
        "    for right in range(i + 1, len(grid)):\n",
        "      if height <= grid[right][j]:\n",
        "        visible = False\n",
        "        break\n",
        "    if visible:\n",
        "      return True\n",
        "    visible = True\n",
        "    #top\n",
        "    for top in range(0, j):\n",
        "      if height <= grid[i][top]:\n",
        "        visible = False\n",
        "        break\n",
        "    if visible:\n",
        "      return True\n",
        "    visible = True\n",
        "    #bottom\n",
        "    for bottom in range(j + 1, len(grid[0])):\n",
        "      if height <= grid[i][bottom]:\n",
        "        visible = False\n",
        "        break\n",
        "    if visible:\n",
        "      return True\n",
        "    return False\n",
        "\n",
        "  treesVisible = 0\n",
        "  for i in range(len(grid)):\n",
        "    for j in range(len(grid[0])):\n",
        "      if i == 0 or j == 0 or i == len(grid) - 1 or j == len(grid[0]) - 1 or checkVisibility(grid, i, j):\n",
        "        #visible[i][j] = True\n",
        "        treesVisible += 1\n",
        "        continue\n",
        "  print(treesVisible)\n",
        "\n",
        "  #SECOND\n",
        "  def calcScenicScore(grid, i, j):\n",
        "    height = grid[i][j]\n",
        "    #left\n",
        "    leftScenic = 0\n",
        "    for left in reversed(range(0, i)):\n",
        "      leftScenic += 1\n",
        "      if height <= grid[left][j]:\n",
        "        break\n",
        "    #right\n",
        "    rightScenic = 0\n",
        "    for right in range(i + 1, len(grid)):\n",
        "      rightScenic += 1\n",
        "      if height <= grid[right][j]:\n",
        "        break\n",
        "    #top\n",
        "    topScenic = 0\n",
        "    for top in reversed(range(0, j)):\n",
        "      topScenic += 1\n",
        "      if height <= grid[i][top]:\n",
        "        break\n",
        "    #bottom\n",
        "    bottomScenic = 0\n",
        "    for bottom in range(j + 1, len(grid[0])):\n",
        "      bottomScenic += 1\n",
        "      if height <= grid[i][bottom]:\n",
        "        break\n",
        "    return leftScenic * rightScenic * topScenic * bottomScenic\n",
        "\n",
        "  scenicScore = 0\n",
        "  for i in range(1, len(grid) - 1):\n",
        "    for j in range(1, len(grid[0]) - 1):\n",
        "      tempScenicScore = calcScenicScore(grid, i, j)\n",
        "      if scenicScore < tempScenicScore:\n",
        "        scenicScore = tempScenicScore\n",
        "  print(scenicScore)\n",
        "\n",
        "  \n",
        "\n",
        "\n"
      ],
      "metadata": {
        "colab": {
          "base_uri": "https://localhost:8080/"
        },
        "outputId": "23daf6e7-4d86-4494-9461-caa7e79dc009",
        "id": "o-ItCwU_PFg2"
      },
      "execution_count": 60,
      "outputs": [
        {
          "output_type": "stream",
          "name": "stdout",
          "text": [
            "1849\n",
            "201600\n"
          ]
        }
      ]
    },
    {
      "cell_type": "markdown",
      "source": [],
      "metadata": {
        "id": "jH0yzERF-FwD"
      }
    }
  ]
}